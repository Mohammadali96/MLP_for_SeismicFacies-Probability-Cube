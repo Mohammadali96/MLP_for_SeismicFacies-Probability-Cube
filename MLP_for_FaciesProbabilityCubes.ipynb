{
 "cells": [
  {
   "cell_type": "markdown",
   "id": "9052f6b8-e99a-4c82-aa26-8e5498aa82f8",
   "metadata": {},
   "source": [
    "# Multi-Layer Perception for Seismic Facies Probability Cubes Extraction"
   ]
  },
  {
   "cell_type": "markdown",
   "id": "e00c47d4-d87f-4096-88e9-29528decc792",
   "metadata": {},
   "source": [
    "!!! Petrel has been used for preparing the seismic attributes and the illustration of results !!!"
   ]
  },
  {
   "cell_type": "markdown",
   "id": "51661d87-8bfe-4375-998b-3475b14a59be",
   "metadata": {},
   "source": [
    "Part of my paper: Rezaei, M., Emami Niri, M., Asghari, O., Talesh Hosseini, S., Emery, X., 2023. Seismic Data Integration Workflow in Pluri-Gaussian Simulation: Application to a Heterogeneous Carbonate Reservoir in Southwestern Iran. Nat. Resour. Res. 32, 1147–1175.\n",
    "https://doi.org/10.1007/s11053-023-10198-0"
   ]
  },
  {
   "cell_type": "markdown",
   "id": "afe57ceb-2e5b-4a80-8280-61682dbb3c92",
   "metadata": {},
   "source": [
    "In this project, a neural network including an input, a hidden and an output layer was applied on a set of seismic attributes to produce the probability cubes of facies. The neural network tried to establish a relationship between these attributes and different classes of facies represented by the well logs.\n"
   ]
  },
  {
   "cell_type": "markdown",
   "id": "7656fe5b-6fbb-45a4-9a5e-9e39d8be5889",
   "metadata": {},
   "source": [
    "<img src=\"nrr1.png\" width = \"700\" height = \"340\">\n",
    "Results of facies probability calculation by neural network at one of the wells locations. The represented well section is associated with the indicated well within the acoustic impedance cube. From right to left on the well section: the first six columns show seismic attributes, the seventh column displays up-scaled facies logs, and the last column indicates the calculated probability for each facies."
   ]
  },
  {
   "cell_type": "markdown",
   "id": "1869cd51-e3fd-4e12-a2b3-bc17a1ef390f",
   "metadata": {},
   "source": [
    "## Training"
   ]
  },
  {
   "cell_type": "code",
   "execution_count": 3,
   "id": "db316910-a8d4-4f9d-b573-8945829d6bc9",
   "metadata": {},
   "outputs": [],
   "source": [
    "import numpy as np\n",
    "import pandas as pd"
   ]
  },
  {
   "cell_type": "markdown",
   "id": "b144d84e-9eea-486e-9292-8183787becbd",
   "metadata": {},
   "source": [
    "### Loading Training Data"
   ]
  },
  {
   "cell_type": "markdown",
   "id": "b8343191-271f-4cf8-8c88-ad4a2403c670",
   "metadata": {},
   "source": [
    "Here, I used my seismic attributes at well locations!\n",
    "\n",
    "You can easiliy replace your excel file name and use the network for training your data!\n",
    "\n",
    "The first 6 columns in my excel file (column 0 to 5) represent seismic attributes (inputs of the network) and the last column (column 6) contains the labels (outputs)."
   ]
  },
  {
   "cell_type": "code",
   "execution_count": 10,
   "id": "1eb7d76c-c7c8-4a9d-becb-41efac148b97",
   "metadata": {},
   "outputs": [],
   "source": [
    "file = pd.read_excel('F:/KrigNN/SeismicInWells_AllSar10.xlsx')\n",
    "data = file.to_numpy()\n",
    "inputs = data[:, :6] \n",
    "outputs = data[:, 6]"
   ]
  },
  {
   "cell_type": "markdown",
   "id": "a4acb280-07c4-40b1-9793-9b2faf1d9828",
   "metadata": {},
   "source": [
    "<img src=\"nrr2.png\" width = \"700\" height = \"340\">\n",
    "Effective porosity and electro-facies well logs of five wells in part of the Sarvak Formation."
   ]
  },
  {
   "cell_type": "markdown",
   "id": "2aed7ca6-7d3c-44fc-96f5-7d8b444968ae",
   "metadata": {},
   "source": [
    "### Shufflling"
   ]
  },
  {
   "cell_type": "code",
   "execution_count": 5,
   "id": "679debcf-498e-4a65-bf1b-ea07338e8c3b",
   "metadata": {},
   "outputs": [],
   "source": [
    "per_list = np.random.permutation(len(data))\n",
    "inputs_sh = []\n",
    "outputs_sh = []\n",
    "for i in range(len(data)):\n",
    "    per_indx = per_list[i]\n",
    "    tmp_input = inputs[per_indx]\n",
    "    tmp_output = outputs[per_indx]\n",
    "    inputs_sh.append(tmp_input)\n",
    "    outputs_sh.append(tmp_output)\n",
    "\n",
    "inputs_sh = np.array(inputs_sh)\n",
    "outputs_sh = np.array(outputs_sh)\n"
   ]
  },
  {
   "cell_type": "markdown",
   "id": "318a6df6-2abc-4a5a-8275-9aee2493e367",
   "metadata": {},
   "source": [
    "### Normalizing"
   ]
  },
  {
   "cell_type": "code",
   "execution_count": 7,
   "id": "e6d8a6b6-a6ec-4b1a-b103-d8805e3eedb2",
   "metadata": {},
   "outputs": [],
   "source": [
    "min_vec = inputs_sh.min(axis=0)\n",
    "max_vec = inputs_sh.max(axis=0)\n",
    "inputs_sh = (inputs_sh - min_vec)/(max_vec - min_vec)"
   ]
  },
  {
   "cell_type": "markdown",
   "id": "7600981d-1dbf-4f17-9ff6-44c87b4ffec9",
   "metadata": {},
   "source": [
    "### Train Test Splitting\n",
    "I used 80% of data for training the network!\n",
    "\n",
    "You can change it as you like!"
   ]
  },
  {
   "cell_type": "code",
   "execution_count": 8,
   "id": "2d44b1f2-f2ff-4c6c-aff5-b921b4942a2e",
   "metadata": {},
   "outputs": [],
   "source": [
    "trn_test_split = int(0.8*len(inputs_sh))\n",
    "X_train = inputs_sh[0:trn_test_split, :]\n",
    "Y_train = outputs_sh[0:trn_test_split]\n",
    "\n",
    "X_val = inputs_sh[trn_test_split :, :]\n",
    "Y_val = outputs_sh[trn_test_split :]"
   ]
  },
  {
   "cell_type": "markdown",
   "id": "b653a908-e580-4b65-9646-826b795c126b",
   "metadata": {},
   "source": [
    "### NN Structure\n",
    "\n",
    "<img src=\"nrr4.png\" width = \"700\" height = \"340\">\n",
    "Structure of the neural network implemented in this study."
   ]
  },
  {
   "cell_type": "code",
   "execution_count": null,
   "id": "7627eb2a-4351-4b90-8ee9-fe93d3ecd8d9",
   "metadata": {},
   "outputs": [],
   "source": [
    "from sklearn.neural_network import MLPClassifier\n",
    "from sklearn import svm\n",
    "\n",
    "mlp = MLPClassifier(hidden_layer_sizes=(100, 20), activation='relue',\n",
    "                    solver='adam', batch_size=80, learning_rate='adaptive',\n",
    "                    learning_rate_init=0.001, max_iter=200000, shuffle=False,\n",
    "                    tol=0.00001, verbose=True, momentum=0.97)\n",
    "mlp.fit(X_train, Y_train)\n",
    "\n",
    "print('train accuracy : ', mlp.score(X_train, Y_train))\n",
    "print('val accuracy : ', mlp.score(X_val, Y_val))"
   ]
  },
  {
   "cell_type": "markdown",
   "id": "7579065b-31db-4303-a912-8d80f7b28236",
   "metadata": {},
   "source": [
    "<img src=\"nrr5.png\" width = \"700\" height = \"340\">\n",
    "Curves of the neural network process: MSE (left) and MAE (right)."
   ]
  },
  {
   "cell_type": "markdown",
   "id": "726b0462-0c81-4675-b9fe-1bcb1977506c",
   "metadata": {},
   "source": [
    "## Prediction\n",
    "\n",
    "After training the network at the well locations, a relationship between the input data and various facies classes was established. The entire simulation network was subjected to this neurological relationship, and a probabilistic cube was produced for each electro-facies class, which was used as a trend in Pluri-Gaussian Simulation. "
   ]
  },
  {
   "cell_type": "markdown",
   "id": "ab057338-52be-4f89-97b0-e5ff7264590d",
   "metadata": {},
   "source": [
    "### Transporting Data from Petrel into Python\n",
    "\n",
    "1) Export your seismic attributes frm Petrel in GSLIB format\n",
    "\n",
    "<img src=\"nrr3.png\" width = \"700\" height = \"340\">\n",
    "\n",
    "Sections of three seismic attributes to indicate their sensitivity to channels. \n",
    "\n",
    "2) Run following lines"
   ]
  },
  {
   "cell_type": "code",
   "execution_count": null,
   "id": "776975ac-a664-47eb-9cdd-191d10ca438c",
   "metadata": {},
   "outputs": [],
   "source": [
    "def read_gslib(filename:str):\n",
    "    with open(filename, \"r\") as f:\n",
    "        lines = f.readlines()\n",
    "        ncols = int(lines[1].split()[0])\n",
    "        col_names = [lines[i+2].strip() for i in range(ncols)]\n",
    "        df = pd.read_csv(filename, skiprows=ncols+2, delim_whitespace= True, names= col_names)\n",
    "        return df\n",
    "\n",
    "df = read_gslib(filename=\"AI_RMS_Cos_Phase_Freq\")\n",
    "df.head()\n",
    "data_forpred = df.to_numpy()\n",
    "location = data_forpred[:, :6]"
   ]
  },
  {
   "cell_type": "markdown",
   "id": "e328b941-6c97-4dc5-b9a8-07fa8416bcc1",
   "metadata": {},
   "source": [
    "### Normalising"
   ]
  },
  {
   "cell_type": "code",
   "execution_count": null,
   "id": "07a8a7c9-0f1c-45f9-9dbf-1afe41e7461e",
   "metadata": {},
   "outputs": [],
   "source": [
    "min_forpred = data_forpred.min(axis=0)\n",
    "max_forpred = inputs_forpred_p1.max(axis=0)\n",
    "inputs_forpred = (inputs_forpred - min_forpred)/(max_forpred - min_forpred)"
   ]
  },
  {
   "cell_type": "markdown",
   "id": "3985ce60-63b8-4149-8b96-84888dd16602",
   "metadata": {},
   "source": [
    "### Run the prediction"
   ]
  },
  {
   "cell_type": "code",
   "execution_count": null,
   "id": "66c82ccd-9047-4117-a117-91e529fe9560",
   "metadata": {},
   "outputs": [],
   "source": [
    "pridprob = mlp.predict_proba(inputs_forpred) # Facies Probability\n",
    "Prid = mlp.predict(inputs_forpred) # Facies"
   ]
  },
  {
   "cell_type": "markdown",
   "id": "e15b945e-9498-4987-ab8c-c08080f7ae87",
   "metadata": {},
   "source": [
    "### Exporting Results in GSLIB for loading in Petrel"
   ]
  },
  {
   "cell_type": "code",
   "execution_count": null,
   "id": "ea66a962-e691-427f-844d-63b43b528df6",
   "metadata": {},
   "outputs": [],
   "source": [
    "lf = pd.DataFrame(locationinputs, columns=['i','j','k','x','y','z'])\n",
    "pf = pd.DataFrame(pridprob, columns=['C1','C2','C3'])\n",
    "Cf = pd.DataFrame(Prid, columns=['facies'])\n",
    "of = lf.join(pf)\n",
    "of = of.join(Cf)\n",
    "def write_gslib(of:pd.DataFrame, filename:str):\n",
    "    with open(filename, \"w\") as f:\n",
    "        f.write(\"GSLIB Example Data\\n\")\n",
    "        f.write(f\"{len(of.columns)}\\n\")\n",
    "        f.write(\"\\n\".join(of.columns)+\"\\n\")\n",
    "        for row in of.itertuples():\n",
    "            row_data = \"\\t\".join([f\"{i:.3f}\" for i in row[1:]])\n",
    "            f.write(f\"{row_data}\\n\")\n",
    "\n",
    " write_gslib(of, \"Outputp1.txt\")\n"
   ]
  },
  {
   "cell_type": "markdown",
   "id": "b05032f6-8376-4878-bc47-291364aca8d8",
   "metadata": {},
   "source": [
    "<img src=\"nrr6.jpg\" width = \"700\" height = \"340\">\n",
    "\n",
    "A depth section from final probability cube of three different facies resulting from neural network process. The depth section located in zone Sarvak 4–7 is such that the probability of shale and shaly-limestone facies is zero."
   ]
  }
 ],
 "metadata": {
  "kernelspec": {
   "display_name": "Python 3 (ipykernel)",
   "language": "python",
   "name": "python3"
  },
  "language_info": {
   "codemirror_mode": {
    "name": "ipython",
    "version": 3
   },
   "file_extension": ".py",
   "mimetype": "text/x-python",
   "name": "python",
   "nbconvert_exporter": "python",
   "pygments_lexer": "ipython3",
   "version": "3.11.4"
  }
 },
 "nbformat": 4,
 "nbformat_minor": 5
}
